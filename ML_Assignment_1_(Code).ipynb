{
  "nbformat": 4,
  "nbformat_minor": 0,
  "metadata": {
    "colab": {
      "provenance": []
    },
    "kernelspec": {
      "name": "python3",
      "display_name": "Python 3"
    },
    "language_info": {
      "name": "python"
    }
  },
  "cells": [
    {
      "cell_type": "markdown",
      "source": [
        "##For the Wine Quality Data Set, convert all the values in the quality attribute to 0 (bad) if the value is less than or equal to 6 and to 1 (good) otherwise Normalize all the other attributes between 0 and 1 by min-max scaling. Mention why we use min-max scaling."
      ],
      "metadata": {
        "id": "-uaDvwnCYWZb"
      }
    },
    {
      "cell_type": "code",
      "execution_count": 3,
      "metadata": {
        "colab": {
          "base_uri": "https://localhost:8080/"
        },
        "id": "Vs6O2RGEX6Uu",
        "outputId": "049c1fd7-f847-4d53-d32d-4f0e95548665"
      },
      "outputs": [
        {
          "output_type": "stream",
          "name": "stdout",
          "text": [
            "   fixed acidity  volatile acidity  citric acid  residual sugar  chlorides  \\\n",
            "0       0.247788          0.397260         0.00        0.068493   0.106845   \n",
            "1       0.283186          0.520548         0.00        0.116438   0.143573   \n",
            "2       0.283186          0.438356         0.04        0.095890   0.133556   \n",
            "3       0.584071          0.109589         0.56        0.068493   0.105175   \n",
            "4       0.247788          0.397260         0.00        0.068493   0.106845   \n",
            "5       0.247788          0.369863         0.00        0.061644   0.105175   \n",
            "6       0.292035          0.328767         0.06        0.047945   0.095159   \n",
            "7       0.238938          0.363014         0.00        0.020548   0.088481   \n",
            "8       0.283186          0.315068         0.02        0.075342   0.101836   \n",
            "9       0.185841          0.315068         0.08        0.061644   0.141903   \n",
            "\n",
            "   free sulfur dioxide  total sulfur dioxide   density        pH  sulphates  \\\n",
            "0             0.149254              0.098940  0.567548  0.606299   0.137725   \n",
            "1             0.358209              0.215548  0.494126  0.362205   0.209581   \n",
            "2             0.208955              0.169611  0.508811  0.409449   0.191617   \n",
            "3             0.238806              0.190813  0.582232  0.330709   0.149701   \n",
            "4             0.149254              0.098940  0.567548  0.606299   0.137725   \n",
            "5             0.179104              0.120141  0.567548  0.606299   0.137725   \n",
            "6             0.208955              0.187279  0.464758  0.440945   0.077844   \n",
            "7             0.208955              0.053004  0.332599  0.511811   0.083832   \n",
            "8             0.119403              0.042403  0.494126  0.488189   0.143713   \n",
            "9             0.208955              0.208481  0.428047  0.425197   0.125749   \n",
            "\n",
            "    alcohol        Id  quality  \n",
            "0  0.153846  0.000000        0  \n",
            "1  0.215385  0.000626        0  \n",
            "2  0.215385  0.001252        0  \n",
            "3  0.215385  0.001879        0  \n",
            "4  0.153846  0.002505        0  \n",
            "5  0.153846  0.003131        0  \n",
            "6  0.153846  0.003757        0  \n",
            "7  0.246154  0.004383        1  \n",
            "8  0.169231  0.005009        1  \n",
            "9  0.123077  0.006262        0  \n"
          ]
        }
      ],
      "source": [
        "import pandas as pd\n",
        "from sklearn.preprocessing import MinMaxScaler\n",
        "\n",
        "# Sample DataFrame creation (replace this with your actual data loading)\n",
        "df = pd.read_csv(\"WineQT.csv\")\n",
        "\n",
        "# Convert quality values to binary\n",
        "df['quality'] = df['quality'].apply(lambda x: 1 if x > 6 else 0)\n",
        "\n",
        "# Separate features and target\n",
        "features = df.drop(columns='quality')\n",
        "target = df['quality']\n",
        "\n",
        "# Initialize MinMaxScaler\n",
        "scaler = MinMaxScaler()\n",
        "\n",
        "# Apply min-max scaling to features\n",
        "features_normalized = pd.DataFrame(scaler.fit_transform(features), columns=features.columns)\n",
        "\n",
        "# Combine normalized features with target\n",
        "df_preprocessed = pd.concat([features_normalized, target.reset_index(drop=True)], axis=1)\n",
        "\n",
        "# Display the preprocessed DataFrame\n",
        "print(df_preprocessed.head(10))"
      ]
    }
  ]
}